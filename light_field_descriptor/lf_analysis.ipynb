{
 "cells": [
  {
   "cell_type": "markdown",
   "metadata": {},
   "source": [
    "## Read data"
   ]
  },
  {
   "cell_type": "code",
   "execution_count": null,
   "metadata": {},
   "outputs": [],
   "source": [
    "metrics_path = \"../../0.025 0.025 0.1 dataset/lf_metrics_oriented_scaled_12vp.csv\""
   ]
  },
  {
   "cell_type": "code",
   "execution_count": null,
   "metadata": {},
   "outputs": [],
   "source": [
    "import csv\n",
    "import sys, ctypes as ct\n",
    "from light_field import LightFieldZernikeMomentsSpineMetric\n",
    "\n",
    "csv.field_size_limit(int(ct.c_ulong(-1).value // 2))\n",
    "\n",
    "data = {}\n",
    "with open(metrics_path, mode=\"r\") as file:\n",
    "    reader = csv.DictReader(file)\n",
    "    for row in reader:\n",
    "        # extract spine file name\n",
    "        spine_name = row.pop(\"Spine File\").replace('\\\\', '/')\n",
    "        # extract each metric\n",
    "        metrics = []\n",
    "        value_str = row[\"LightFieldZernikeMoments\"]\n",
    "        try:\n",
    "            metric = LightFieldZernikeMomentsSpineMetric(None)\n",
    "            metric.parse_value(value_str)\n",
    "            metrics.append(metric)\n",
    "        except Exception:\n",
    "            raise\n",
    "        data[spine_name] = metrics\n"
   ]
  },
  {
   "cell_type": "markdown",
   "metadata": {},
   "source": [
    "## Plot feature space"
   ]
  },
  {
   "cell_type": "code",
   "execution_count": null,
   "metadata": {},
   "outputs": [],
   "source": [
    "from sklearn.manifold import TSNE\n",
    "import numpy as np\n",
    "from matplotlib import pyplot as plt\n",
    "\n",
    "X_source = np.real(np.array([v[0].value for v in data.values()]))\n",
    "X_reduced = TSNE(2, init=\"pca\", random_state=0).fit_transform(X_source.reshape(X_source.shape[0], -1))\n",
    "plt.scatter(X_reduced[:, 0], X_reduced[:, 1])"
   ]
  },
  {
   "cell_type": "code",
   "execution_count": null,
   "metadata": {},
   "outputs": [],
   "source": [
    "from sklearn.manifold import TSNE\n",
    "import numpy as np\n",
    "from matplotlib import pyplot as plt\n",
    "\n",
    "X_source = np.abs(np.array([v[0].value for v in data.values()]))\n",
    "X_reduced = TSNE(2, init=\"pca\", random_state=0).fit_transform(X_source.reshape(X_source.shape[0], -1))\n",
    "plt.scatter(X_reduced[:, 0], X_reduced[:, 1])"
   ]
  },
  {
   "cell_type": "markdown",
   "metadata": {},
   "source": [
    "## Reconstruct projections"
   ]
  },
  {
   "cell_type": "code",
   "execution_count": null,
   "metadata": {},
   "outputs": [],
   "source": [
    "for k, v in list(data.items())[:2]:\n",
    "    print(k)\n",
    "    display(v[0].show())\n",
    "    plt.show()"
   ]
  }
 ],
 "metadata": {
  "kernelspec": {
   "display_name": "spine-analysis",
   "language": "python",
   "name": "python3"
  },
  "language_info": {
   "codemirror_mode": {
    "name": "ipython",
    "version": 3
   },
   "file_extension": ".py",
   "mimetype": "text/x-python",
   "name": "python",
   "nbconvert_exporter": "python",
   "pygments_lexer": "ipython3",
   "version": "3.8.19"
  }
 },
 "nbformat": 4,
 "nbformat_minor": 2
}
